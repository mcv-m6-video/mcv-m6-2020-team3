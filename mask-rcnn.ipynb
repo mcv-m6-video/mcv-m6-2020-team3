{
  "nbformat": 4,
  "nbformat_minor": 0,
  "metadata": {
    "colab": {
      "name": "Untitled2.ipynb",
      "provenance": []
    },
    "kernelspec": {
      "name": "python3",
      "display_name": "Python 3"
    }
  },
  "cells": [
    {
      "cell_type": "code",
      "metadata": {
        "id": "_3-mwJyQ-2GY",
        "colab_type": "code",
        "colab": {}
      },
      "source": [
        "import matplotlib.pyplot as plt\n",
        "import matplotlib.pylab as pylab\n",
        "\n",
        "import requests\n",
        "from io import BytesIO\n",
        "from PIL import Image\n",
        "import numpy as np\n",
        "import os"
      ],
      "execution_count": 0,
      "outputs": []
    },
    {
      "cell_type": "code",
      "metadata": {
        "id": "GCTYNER2CWKa",
        "colab_type": "code",
        "colab": {
          "base_uri": "https://localhost:8080/",
          "height": 136
        },
        "outputId": "921636d2-f5e1-4a34-dd87-4e559db8947e"
      },
      "source": [
        "!git clone https://github.com/tensorflow/tpu/"
      ],
      "execution_count": 2,
      "outputs": [
        {
          "output_type": "stream",
          "text": [
            "Cloning into 'tpu'...\n",
            "remote: Enumerating objects: 116, done.\u001b[K\n",
            "remote: Counting objects: 100% (116/116), done.\u001b[K\n",
            "remote: Compressing objects: 100% (92/92), done.\u001b[K\n",
            "remote: Total 7964 (delta 51), reused 60 (delta 24), pack-reused 7848\u001b[K\n",
            "Receiving objects: 100% (7964/7964), 23.73 MiB | 8.21 MiB/s, done.\n",
            "Resolving deltas: 100% (5604/5604), done.\n"
          ],
          "name": "stdout"
        }
      ]
    },
    {
      "cell_type": "code",
      "metadata": {
        "id": "V-ubCCkQKUDr",
        "colab_type": "code",
        "outputId": "03fc9597-8660-446c-9010-595907c8f2b3",
        "colab": {
          "base_uri": "https://localhost:8080/",
          "height": 1000
        }
      },
      "source": [
        "!git clone https://github.com/matterport/Mask_RCNN.git\n",
        "!pip install -r 'Mask_RCNN/requirements.txt'\n",
        "!cd Mask_RCNN ; python setup.py install\n"
      ],
      "execution_count": 0,
      "outputs": [
        {
          "output_type": "stream",
          "text": [
            "Cloning into 'Mask_RCNN'...\n",
            "remote: Enumerating objects: 956, done.\u001b[K\n",
            "remote: Total 956 (delta 0), reused 0 (delta 0), pack-reused 956\u001b[K\n",
            "Receiving objects: 100% (956/956), 111.84 MiB | 34.59 MiB/s, done.\n",
            "Resolving deltas: 100% (570/570), done.\n",
            "Requirement already satisfied: numpy in /usr/local/lib/python3.6/dist-packages (from -r Mask_RCNN/requirements.txt (line 1)) (1.18.1)\n",
            "Requirement already satisfied: scipy in /usr/local/lib/python3.6/dist-packages (from -r Mask_RCNN/requirements.txt (line 2)) (1.4.1)\n",
            "Requirement already satisfied: Pillow in /usr/local/lib/python3.6/dist-packages (from -r Mask_RCNN/requirements.txt (line 3)) (7.0.0)\n",
            "Requirement already satisfied: cython in /usr/local/lib/python3.6/dist-packages (from -r Mask_RCNN/requirements.txt (line 4)) (0.29.15)\n",
            "Requirement already satisfied: matplotlib in /usr/local/lib/python3.6/dist-packages (from -r Mask_RCNN/requirements.txt (line 5)) (3.2.0)\n",
            "Requirement already satisfied: scikit-image in /usr/local/lib/python3.6/dist-packages (from -r Mask_RCNN/requirements.txt (line 6)) (0.16.2)\n",
            "Requirement already satisfied: tensorflow>=1.3.0 in /tensorflow-1.15.0/python3.6 (from -r Mask_RCNN/requirements.txt (line 7)) (1.15.0)\n",
            "Requirement already satisfied: keras>=2.0.8 in /usr/local/lib/python3.6/dist-packages (from -r Mask_RCNN/requirements.txt (line 8)) (2.2.5)\n",
            "Requirement already satisfied: opencv-python in /usr/local/lib/python3.6/dist-packages (from -r Mask_RCNN/requirements.txt (line 9)) (4.1.2.30)\n",
            "Requirement already satisfied: h5py in /usr/local/lib/python3.6/dist-packages (from -r Mask_RCNN/requirements.txt (line 10)) (2.8.0)\n",
            "Requirement already satisfied: imgaug in /usr/local/lib/python3.6/dist-packages (from -r Mask_RCNN/requirements.txt (line 11)) (0.2.9)\n",
            "Requirement already satisfied: IPython[all] in /usr/local/lib/python3.6/dist-packages (from -r Mask_RCNN/requirements.txt (line 12)) (5.5.0)\n",
            "Requirement already satisfied: kiwisolver>=1.0.1 in /usr/local/lib/python3.6/dist-packages (from matplotlib->-r Mask_RCNN/requirements.txt (line 5)) (1.1.0)\n",
            "Requirement already satisfied: cycler>=0.10 in /usr/local/lib/python3.6/dist-packages (from matplotlib->-r Mask_RCNN/requirements.txt (line 5)) (0.10.0)\n",
            "Requirement already satisfied: python-dateutil>=2.1 in /usr/local/lib/python3.6/dist-packages (from matplotlib->-r Mask_RCNN/requirements.txt (line 5)) (2.8.1)\n",
            "Requirement already satisfied: pyparsing!=2.0.4,!=2.1.2,!=2.1.6,>=2.0.1 in /usr/local/lib/python3.6/dist-packages (from matplotlib->-r Mask_RCNN/requirements.txt (line 5)) (2.4.6)\n",
            "Requirement already satisfied: PyWavelets>=0.4.0 in /usr/local/lib/python3.6/dist-packages (from scikit-image->-r Mask_RCNN/requirements.txt (line 6)) (1.1.1)\n",
            "Requirement already satisfied: networkx>=2.0 in /usr/local/lib/python3.6/dist-packages (from scikit-image->-r Mask_RCNN/requirements.txt (line 6)) (2.4)\n",
            "Requirement already satisfied: imageio>=2.3.0 in /usr/local/lib/python3.6/dist-packages (from scikit-image->-r Mask_RCNN/requirements.txt (line 6)) (2.4.1)\n",
            "Requirement already satisfied: six>=1.10.0 in /usr/local/lib/python3.6/dist-packages (from tensorflow>=1.3.0->-r Mask_RCNN/requirements.txt (line 7)) (1.12.0)\n",
            "Requirement already satisfied: keras-applications>=1.0.8 in /usr/local/lib/python3.6/dist-packages (from tensorflow>=1.3.0->-r Mask_RCNN/requirements.txt (line 7)) (1.0.8)\n",
            "Requirement already satisfied: grpcio>=1.8.6 in /usr/local/lib/python3.6/dist-packages (from tensorflow>=1.3.0->-r Mask_RCNN/requirements.txt (line 7)) (1.24.3)\n",
            "Requirement already satisfied: wheel>=0.26 in /usr/local/lib/python3.6/dist-packages (from tensorflow>=1.3.0->-r Mask_RCNN/requirements.txt (line 7)) (0.34.2)\n",
            "Requirement already satisfied: astor>=0.6.0 in /usr/local/lib/python3.6/dist-packages (from tensorflow>=1.3.0->-r Mask_RCNN/requirements.txt (line 7)) (0.8.1)\n",
            "Requirement already satisfied: protobuf>=3.6.1 in /usr/local/lib/python3.6/dist-packages (from tensorflow>=1.3.0->-r Mask_RCNN/requirements.txt (line 7)) (3.10.0)\n",
            "Requirement already satisfied: wrapt>=1.11.1 in /usr/local/lib/python3.6/dist-packages (from tensorflow>=1.3.0->-r Mask_RCNN/requirements.txt (line 7)) (1.12.1)\n",
            "Requirement already satisfied: tensorboard<1.16.0,>=1.15.0 in /tensorflow-1.15.0/python3.6 (from tensorflow>=1.3.0->-r Mask_RCNN/requirements.txt (line 7)) (1.15.0)\n",
            "Requirement already satisfied: keras-preprocessing>=1.0.5 in /usr/local/lib/python3.6/dist-packages (from tensorflow>=1.3.0->-r Mask_RCNN/requirements.txt (line 7)) (1.1.0)\n",
            "Requirement already satisfied: opt-einsum>=2.3.2 in /usr/local/lib/python3.6/dist-packages (from tensorflow>=1.3.0->-r Mask_RCNN/requirements.txt (line 7)) (3.2.0)\n",
            "Requirement already satisfied: gast==0.2.2 in /usr/local/lib/python3.6/dist-packages (from tensorflow>=1.3.0->-r Mask_RCNN/requirements.txt (line 7)) (0.2.2)\n",
            "Requirement already satisfied: tensorflow-estimator==1.15.1 in /tensorflow-1.15.0/python3.6 (from tensorflow>=1.3.0->-r Mask_RCNN/requirements.txt (line 7)) (1.15.1)\n",
            "Requirement already satisfied: google-pasta>=0.1.6 in /usr/local/lib/python3.6/dist-packages (from tensorflow>=1.3.0->-r Mask_RCNN/requirements.txt (line 7)) (0.1.8)\n",
            "Requirement already satisfied: absl-py>=0.7.0 in /usr/local/lib/python3.6/dist-packages (from tensorflow>=1.3.0->-r Mask_RCNN/requirements.txt (line 7)) (0.9.0)\n",
            "Requirement already satisfied: termcolor>=1.1.0 in /usr/local/lib/python3.6/dist-packages (from tensorflow>=1.3.0->-r Mask_RCNN/requirements.txt (line 7)) (1.1.0)\n",
            "Requirement already satisfied: pyyaml in /usr/local/lib/python3.6/dist-packages (from keras>=2.0.8->-r Mask_RCNN/requirements.txt (line 8)) (3.13)\n",
            "Requirement already satisfied: Shapely in /usr/local/lib/python3.6/dist-packages (from imgaug->-r Mask_RCNN/requirements.txt (line 11)) (1.7.0)\n",
            "Requirement already satisfied: pygments in /usr/local/lib/python3.6/dist-packages (from IPython[all]->-r Mask_RCNN/requirements.txt (line 12)) (2.1.3)\n",
            "Requirement already satisfied: pickleshare in /usr/local/lib/python3.6/dist-packages (from IPython[all]->-r Mask_RCNN/requirements.txt (line 12)) (0.7.5)\n",
            "Requirement already satisfied: decorator in /usr/local/lib/python3.6/dist-packages (from IPython[all]->-r Mask_RCNN/requirements.txt (line 12)) (4.4.2)\n",
            "Requirement already satisfied: pexpect; sys_platform != \"win32\" in /usr/local/lib/python3.6/dist-packages (from IPython[all]->-r Mask_RCNN/requirements.txt (line 12)) (4.8.0)\n",
            "Requirement already satisfied: traitlets>=4.2 in /usr/local/lib/python3.6/dist-packages (from IPython[all]->-r Mask_RCNN/requirements.txt (line 12)) (4.3.3)\n",
            "Requirement already satisfied: simplegeneric>0.8 in /usr/local/lib/python3.6/dist-packages (from IPython[all]->-r Mask_RCNN/requirements.txt (line 12)) (0.8.1)\n",
            "Requirement already satisfied: prompt-toolkit<2.0.0,>=1.0.4 in /usr/local/lib/python3.6/dist-packages (from IPython[all]->-r Mask_RCNN/requirements.txt (line 12)) (1.0.18)\n",
            "Requirement already satisfied: setuptools>=18.5 in /usr/local/lib/python3.6/dist-packages (from IPython[all]->-r Mask_RCNN/requirements.txt (line 12)) (45.2.0)\n",
            "Requirement already satisfied: nbconvert; extra == \"all\" in /usr/local/lib/python3.6/dist-packages (from IPython[all]->-r Mask_RCNN/requirements.txt (line 12)) (5.6.1)\n",
            "Requirement already satisfied: testpath; extra == \"all\" in /usr/local/lib/python3.6/dist-packages (from IPython[all]->-r Mask_RCNN/requirements.txt (line 12)) (0.4.4)\n",
            "Collecting ipyparallel; extra == \"all\"\n",
            "\u001b[?25l  Downloading https://files.pythonhosted.org/packages/3f/82/aaa7a357845a98d4028f27c799f0d3bb2fe55fc1247c73dc712b4ae2344c/ipyparallel-6.2.4-py2.py3-none-any.whl (198kB)\n",
            "\u001b[K     |████████████████████████████████| 204kB 5.0MB/s \n",
            "\u001b[?25hRequirement already satisfied: nbformat; extra == \"all\" in /usr/local/lib/python3.6/dist-packages (from IPython[all]->-r Mask_RCNN/requirements.txt (line 12)) (5.0.4)\n",
            "Requirement already satisfied: qtconsole; extra == \"all\" in /usr/local/lib/python3.6/dist-packages (from IPython[all]->-r Mask_RCNN/requirements.txt (line 12)) (4.7.1)\n",
            "Requirement already satisfied: Sphinx>=1.3; extra == \"all\" in /usr/local/lib/python3.6/dist-packages (from IPython[all]->-r Mask_RCNN/requirements.txt (line 12)) (1.8.5)\n",
            "Requirement already satisfied: requests; extra == \"all\" in /usr/local/lib/python3.6/dist-packages (from IPython[all]->-r Mask_RCNN/requirements.txt (line 12)) (2.21.0)\n",
            "Requirement already satisfied: ipywidgets; extra == \"all\" in /usr/local/lib/python3.6/dist-packages (from IPython[all]->-r Mask_RCNN/requirements.txt (line 12)) (7.5.1)\n",
            "Collecting nose>=0.10.1; extra == \"all\"\n",
            "\u001b[?25l  Downloading https://files.pythonhosted.org/packages/15/d8/dd071918c040f50fa1cf80da16423af51ff8ce4a0f2399b7bf8de45ac3d9/nose-1.3.7-py3-none-any.whl (154kB)\n",
            "\u001b[K     |████████████████████████████████| 163kB 15.9MB/s \n",
            "\u001b[?25hRequirement already satisfied: notebook; extra == \"all\" in /usr/local/lib/python3.6/dist-packages (from IPython[all]->-r Mask_RCNN/requirements.txt (line 12)) (5.2.2)\n",
            "Requirement already satisfied: ipykernel; extra == \"all\" in /usr/local/lib/python3.6/dist-packages (from IPython[all]->-r Mask_RCNN/requirements.txt (line 12)) (4.6.1)\n",
            "Requirement already satisfied: markdown>=2.6.8 in /usr/local/lib/python3.6/dist-packages (from tensorboard<1.16.0,>=1.15.0->tensorflow>=1.3.0->-r Mask_RCNN/requirements.txt (line 7)) (3.2.1)\n",
            "Requirement already satisfied: werkzeug>=0.11.15 in /usr/local/lib/python3.6/dist-packages (from tensorboard<1.16.0,>=1.15.0->tensorflow>=1.3.0->-r Mask_RCNN/requirements.txt (line 7)) (1.0.0)\n",
            "Requirement already satisfied: ptyprocess>=0.5 in /usr/local/lib/python3.6/dist-packages (from pexpect; sys_platform != \"win32\"->IPython[all]->-r Mask_RCNN/requirements.txt (line 12)) (0.6.0)\n",
            "Requirement already satisfied: ipython-genutils in /usr/local/lib/python3.6/dist-packages (from traitlets>=4.2->IPython[all]->-r Mask_RCNN/requirements.txt (line 12)) (0.2.0)\n",
            "Requirement already satisfied: wcwidth in /usr/local/lib/python3.6/dist-packages (from prompt-toolkit<2.0.0,>=1.0.4->IPython[all]->-r Mask_RCNN/requirements.txt (line 12)) (0.1.8)\n",
            "Requirement already satisfied: defusedxml in /usr/local/lib/python3.6/dist-packages (from nbconvert; extra == \"all\"->IPython[all]->-r Mask_RCNN/requirements.txt (line 12)) (0.6.0)\n",
            "Requirement already satisfied: mistune<2,>=0.8.1 in /usr/local/lib/python3.6/dist-packages (from nbconvert; extra == \"all\"->IPython[all]->-r Mask_RCNN/requirements.txt (line 12)) (0.8.4)\n",
            "Requirement already satisfied: jinja2>=2.4 in /usr/local/lib/python3.6/dist-packages (from nbconvert; extra == \"all\"->IPython[all]->-r Mask_RCNN/requirements.txt (line 12)) (2.11.1)\n",
            "Requirement already satisfied: bleach in /usr/local/lib/python3.6/dist-packages (from nbconvert; extra == \"all\"->IPython[all]->-r Mask_RCNN/requirements.txt (line 12)) (3.1.1)\n",
            "Requirement already satisfied: jupyter-core in /usr/local/lib/python3.6/dist-packages (from nbconvert; extra == \"all\"->IPython[all]->-r Mask_RCNN/requirements.txt (line 12)) (4.6.3)\n",
            "Requirement already satisfied: entrypoints>=0.2.2 in /usr/local/lib/python3.6/dist-packages (from nbconvert; extra == \"all\"->IPython[all]->-r Mask_RCNN/requirements.txt (line 12)) (0.3)\n",
            "Requirement already satisfied: pandocfilters>=1.4.1 in /usr/local/lib/python3.6/dist-packages (from nbconvert; extra == \"all\"->IPython[all]->-r Mask_RCNN/requirements.txt (line 12)) (1.4.2)\n",
            "Requirement already satisfied: pyzmq>=13 in /usr/local/lib/python3.6/dist-packages (from ipyparallel; extra == \"all\"->IPython[all]->-r Mask_RCNN/requirements.txt (line 12)) (17.0.0)\n",
            "Requirement already satisfied: tornado>=4 in /usr/local/lib/python3.6/dist-packages (from ipyparallel; extra == \"all\"->IPython[all]->-r Mask_RCNN/requirements.txt (line 12)) (4.5.3)\n",
            "Requirement already satisfied: jupyter-client in /usr/local/lib/python3.6/dist-packages (from ipyparallel; extra == \"all\"->IPython[all]->-r Mask_RCNN/requirements.txt (line 12)) (5.3.4)\n",
            "Requirement already satisfied: jsonschema!=2.5.0,>=2.4 in /usr/local/lib/python3.6/dist-packages (from nbformat; extra == \"all\"->IPython[all]->-r Mask_RCNN/requirements.txt (line 12)) (2.6.0)\n",
            "Requirement already satisfied: qtpy in /usr/local/lib/python3.6/dist-packages (from qtconsole; extra == \"all\"->IPython[all]->-r Mask_RCNN/requirements.txt (line 12)) (1.9.0)\n",
            "Requirement already satisfied: alabaster<0.8,>=0.7 in /usr/local/lib/python3.6/dist-packages (from Sphinx>=1.3; extra == \"all\"->IPython[all]->-r Mask_RCNN/requirements.txt (line 12)) (0.7.12)\n",
            "Requirement already satisfied: imagesize in /usr/local/lib/python3.6/dist-packages (from Sphinx>=1.3; extra == \"all\"->IPython[all]->-r Mask_RCNN/requirements.txt (line 12)) (1.2.0)\n",
            "Requirement already satisfied: sphinxcontrib-websupport in /usr/local/lib/python3.6/dist-packages (from Sphinx>=1.3; extra == \"all\"->IPython[all]->-r Mask_RCNN/requirements.txt (line 12)) (1.2.0)\n",
            "Requirement already satisfied: packaging in /usr/local/lib/python3.6/dist-packages (from Sphinx>=1.3; extra == \"all\"->IPython[all]->-r Mask_RCNN/requirements.txt (line 12)) (20.3)\n",
            "Requirement already satisfied: babel!=2.0,>=1.3 in /usr/local/lib/python3.6/dist-packages (from Sphinx>=1.3; extra == \"all\"->IPython[all]->-r Mask_RCNN/requirements.txt (line 12)) (2.8.0)\n",
            "Requirement already satisfied: docutils>=0.11 in /usr/local/lib/python3.6/dist-packages (from Sphinx>=1.3; extra == \"all\"->IPython[all]->-r Mask_RCNN/requirements.txt (line 12)) (0.15.2)\n",
            "Requirement already satisfied: snowballstemmer>=1.1 in /usr/local/lib/python3.6/dist-packages (from Sphinx>=1.3; extra == \"all\"->IPython[all]->-r Mask_RCNN/requirements.txt (line 12)) (2.0.0)\n",
            "Requirement already satisfied: certifi>=2017.4.17 in /usr/local/lib/python3.6/dist-packages (from requests; extra == \"all\"->IPython[all]->-r Mask_RCNN/requirements.txt (line 12)) (2019.11.28)\n",
            "Requirement already satisfied: chardet<3.1.0,>=3.0.2 in /usr/local/lib/python3.6/dist-packages (from requests; extra == \"all\"->IPython[all]->-r Mask_RCNN/requirements.txt (line 12)) (3.0.4)\n",
            "Requirement already satisfied: idna<2.9,>=2.5 in /usr/local/lib/python3.6/dist-packages (from requests; extra == \"all\"->IPython[all]->-r Mask_RCNN/requirements.txt (line 12)) (2.8)\n",
            "Requirement already satisfied: urllib3<1.25,>=1.21.1 in /usr/local/lib/python3.6/dist-packages (from requests; extra == \"all\"->IPython[all]->-r Mask_RCNN/requirements.txt (line 12)) (1.24.3)\n",
            "Requirement already satisfied: widgetsnbextension~=3.5.0 in /usr/local/lib/python3.6/dist-packages (from ipywidgets; extra == \"all\"->IPython[all]->-r Mask_RCNN/requirements.txt (line 12)) (3.5.1)\n",
            "Requirement already satisfied: terminado>=0.3.3; sys_platform != \"win32\" in /usr/local/lib/python3.6/dist-packages (from notebook; extra == \"all\"->IPython[all]->-r Mask_RCNN/requirements.txt (line 12)) (0.8.3)\n",
            "Requirement already satisfied: MarkupSafe>=0.23 in /usr/local/lib/python3.6/dist-packages (from jinja2>=2.4->nbconvert; extra == \"all\"->IPython[all]->-r Mask_RCNN/requirements.txt (line 12)) (1.1.1)\n",
            "Requirement already satisfied: webencodings in /usr/local/lib/python3.6/dist-packages (from bleach->nbconvert; extra == \"all\"->IPython[all]->-r Mask_RCNN/requirements.txt (line 12)) (0.5.1)\n",
            "Requirement already satisfied: pytz>=2015.7 in /usr/local/lib/python3.6/dist-packages (from babel!=2.0,>=1.3->Sphinx>=1.3; extra == \"all\"->IPython[all]->-r Mask_RCNN/requirements.txt (line 12)) (2018.9)\n",
            "Installing collected packages: ipyparallel, nose\n",
            "Successfully installed ipyparallel-6.2.4 nose-1.3.7\n",
            "WARNING:root:Fail load requirements file, so using default ones.\n",
            "running install\n",
            "running bdist_egg\n",
            "running egg_info\n",
            "creating mask_rcnn.egg-info\n",
            "writing mask_rcnn.egg-info/PKG-INFO\n",
            "writing dependency_links to mask_rcnn.egg-info/dependency_links.txt\n",
            "writing top-level names to mask_rcnn.egg-info/top_level.txt\n",
            "writing manifest file 'mask_rcnn.egg-info/SOURCES.txt'\n",
            "reading manifest template 'MANIFEST.in'\n",
            "writing manifest file 'mask_rcnn.egg-info/SOURCES.txt'\n",
            "installing library code to build/bdist.linux-x86_64/egg\n",
            "running install_lib\n",
            "running build_py\n",
            "creating build\n",
            "creating build/lib\n",
            "creating build/lib/mrcnn\n",
            "copying mrcnn/visualize.py -> build/lib/mrcnn\n",
            "copying mrcnn/utils.py -> build/lib/mrcnn\n",
            "copying mrcnn/parallel_model.py -> build/lib/mrcnn\n",
            "copying mrcnn/config.py -> build/lib/mrcnn\n",
            "copying mrcnn/model.py -> build/lib/mrcnn\n",
            "copying mrcnn/__init__.py -> build/lib/mrcnn\n",
            "creating build/bdist.linux-x86_64\n",
            "creating build/bdist.linux-x86_64/egg\n",
            "creating build/bdist.linux-x86_64/egg/mrcnn\n",
            "copying build/lib/mrcnn/visualize.py -> build/bdist.linux-x86_64/egg/mrcnn\n",
            "copying build/lib/mrcnn/utils.py -> build/bdist.linux-x86_64/egg/mrcnn\n",
            "copying build/lib/mrcnn/parallel_model.py -> build/bdist.linux-x86_64/egg/mrcnn\n",
            "copying build/lib/mrcnn/config.py -> build/bdist.linux-x86_64/egg/mrcnn\n",
            "copying build/lib/mrcnn/model.py -> build/bdist.linux-x86_64/egg/mrcnn\n",
            "copying build/lib/mrcnn/__init__.py -> build/bdist.linux-x86_64/egg/mrcnn\n",
            "byte-compiling build/bdist.linux-x86_64/egg/mrcnn/visualize.py to visualize.cpython-36.pyc\n",
            "byte-compiling build/bdist.linux-x86_64/egg/mrcnn/utils.py to utils.cpython-36.pyc\n",
            "byte-compiling build/bdist.linux-x86_64/egg/mrcnn/parallel_model.py to parallel_model.cpython-36.pyc\n",
            "byte-compiling build/bdist.linux-x86_64/egg/mrcnn/config.py to config.cpython-36.pyc\n",
            "byte-compiling build/bdist.linux-x86_64/egg/mrcnn/model.py to model.cpython-36.pyc\n",
            "byte-compiling build/bdist.linux-x86_64/egg/mrcnn/__init__.py to __init__.cpython-36.pyc\n",
            "creating build/bdist.linux-x86_64/egg/EGG-INFO\n",
            "copying mask_rcnn.egg-info/PKG-INFO -> build/bdist.linux-x86_64/egg/EGG-INFO\n",
            "copying mask_rcnn.egg-info/SOURCES.txt -> build/bdist.linux-x86_64/egg/EGG-INFO\n",
            "copying mask_rcnn.egg-info/dependency_links.txt -> build/bdist.linux-x86_64/egg/EGG-INFO\n",
            "copying mask_rcnn.egg-info/top_level.txt -> build/bdist.linux-x86_64/egg/EGG-INFO\n",
            "zip_safe flag not set; analyzing archive contents...\n",
            "creating dist\n",
            "creating 'dist/mask_rcnn-2.1-py3.6.egg' and adding 'build/bdist.linux-x86_64/egg' to it\n",
            "removing 'build/bdist.linux-x86_64/egg' (and everything under it)\n",
            "Processing mask_rcnn-2.1-py3.6.egg\n",
            "Copying mask_rcnn-2.1-py3.6.egg to /usr/local/lib/python3.6/dist-packages\n",
            "Adding mask-rcnn 2.1 to easy-install.pth file\n",
            "\n",
            "Installed /usr/local/lib/python3.6/dist-packages/mask_rcnn-2.1-py3.6.egg\n",
            "Processing dependencies for mask-rcnn==2.1\n",
            "Finished processing dependencies for mask-rcnn==2.1\n"
          ],
          "name": "stdout"
        }
      ]
    },
    {
      "cell_type": "code",
      "metadata": {
        "id": "DgcQczqJCefY",
        "colab_type": "code",
        "outputId": "38326cf8-9a1f-4701-fc99-5e691d9af87e",
        "colab": {
          "base_uri": "https://localhost:8080/",
          "height": 338
        }
      },
      "source": [
        "from IPython import display\n",
        "from PIL import Image\n",
        "import numpy as np\n",
        "%tensorflow_version 1.x\n",
        "import tensorflow as tf\n",
        "import sys\n",
        "sys.path.insert(0, 'tpu/models/official')\n",
        "sys.path.insert(0, 'tpu/models/official/mask_rcnn')\n",
        "#import coco_metric\n",
        "from mask_rcnn.object_detection import visualization_utils"
      ],
      "execution_count": 0,
      "outputs": [
        {
          "output_type": "error",
          "ename": "ModuleNotFoundError",
          "evalue": "ignored",
          "traceback": [
            "\u001b[0;31m---------------------------------------------------------------------------\u001b[0m",
            "\u001b[0;31mModuleNotFoundError\u001b[0m                       Traceback (most recent call last)",
            "\u001b[0;32m<ipython-input-5-eb2f1bed6c09>\u001b[0m in \u001b[0;36m<module>\u001b[0;34m()\u001b[0m\n\u001b[1;32m      8\u001b[0m \u001b[0msys\u001b[0m\u001b[0;34m.\u001b[0m\u001b[0mpath\u001b[0m\u001b[0;34m.\u001b[0m\u001b[0minsert\u001b[0m\u001b[0;34m(\u001b[0m\u001b[0;36m0\u001b[0m\u001b[0;34m,\u001b[0m \u001b[0;34m'tpu/models/official/mask_rcnn'\u001b[0m\u001b[0;34m)\u001b[0m\u001b[0;34m\u001b[0m\u001b[0;34m\u001b[0m\u001b[0m\n\u001b[1;32m      9\u001b[0m \u001b[0;31m#import coco_metric\u001b[0m\u001b[0;34m\u001b[0m\u001b[0;34m\u001b[0m\u001b[0;34m\u001b[0m\u001b[0m\n\u001b[0;32m---> 10\u001b[0;31m \u001b[0;32mfrom\u001b[0m \u001b[0mmask_rcnn\u001b[0m\u001b[0;34m.\u001b[0m\u001b[0mobject_detection\u001b[0m \u001b[0;32mimport\u001b[0m \u001b[0mvisualization_utils\u001b[0m\u001b[0;34m\u001b[0m\u001b[0;34m\u001b[0m\u001b[0m\n\u001b[0m",
            "\u001b[0;31mModuleNotFoundError\u001b[0m: No module named 'mask_rcnn'",
            "",
            "\u001b[0;31m---------------------------------------------------------------------------\u001b[0;32m\nNOTE: If your import is failing due to a missing package, you can\nmanually install dependencies using either !pip or !apt.\n\nTo view examples of installing some common dependencies, click the\n\"Open Examples\" button below.\n\u001b[0;31m---------------------------------------------------------------------------\u001b[0m\n"
          ]
        }
      ]
    },
    {
      "cell_type": "code",
      "metadata": {
        "id": "BcghAzRSCADY",
        "colab_type": "code",
        "colab": {}
      },
      "source": [
        "ROOT_DIR = os.path.abspath(\"./Mask_RCNN\")\n",
        "sys.path.append(ROOT_DIR)\n"
      ],
      "execution_count": 0,
      "outputs": []
    },
    {
      "cell_type": "code",
      "metadata": {
        "id": "yK-0uwSlEbKF",
        "colab_type": "code",
        "outputId": "fd0c38e4-05e4-41b1-b4b5-10dd256b9929",
        "colab": {
          "base_uri": "https://localhost:8080/",
          "height": 355
        }
      },
      "source": [
        "from mrcnn import utils\n",
        "from mrcnn import visualize\n",
        "import mrcnn.model as modellib\n",
        "from mrcnn.config import Config"
      ],
      "execution_count": 0,
      "outputs": [
        {
          "output_type": "error",
          "ename": "ModuleNotFoundError",
          "evalue": "ignored",
          "traceback": [
            "\u001b[0;31m---------------------------------------------------------------------------\u001b[0m",
            "\u001b[0;31mModuleNotFoundError\u001b[0m                       Traceback (most recent call last)",
            "\u001b[0;32m<ipython-input-16-ed58cd3e77fc>\u001b[0m in \u001b[0;36m<module>\u001b[0;34m()\u001b[0m\n\u001b[0;32m----> 1\u001b[0;31m \u001b[0;32mfrom\u001b[0m \u001b[0mmrcnn\u001b[0m \u001b[0;32mimport\u001b[0m \u001b[0mutils\u001b[0m\u001b[0;34m\u001b[0m\u001b[0;34m\u001b[0m\u001b[0m\n\u001b[0m\u001b[1;32m      2\u001b[0m \u001b[0;32mfrom\u001b[0m \u001b[0mmrcnn\u001b[0m \u001b[0;32mimport\u001b[0m \u001b[0mvisualize\u001b[0m\u001b[0;34m\u001b[0m\u001b[0;34m\u001b[0m\u001b[0m\n\u001b[1;32m      3\u001b[0m \u001b[0;32mimport\u001b[0m \u001b[0mmrcnn\u001b[0m\u001b[0;34m.\u001b[0m\u001b[0mmodel\u001b[0m \u001b[0;32mas\u001b[0m \u001b[0mmodellib\u001b[0m\u001b[0;34m\u001b[0m\u001b[0;34m\u001b[0m\u001b[0m\n\u001b[1;32m      4\u001b[0m \u001b[0;32mfrom\u001b[0m \u001b[0mmrcnn\u001b[0m\u001b[0;34m.\u001b[0m\u001b[0mconfig\u001b[0m \u001b[0;32mimport\u001b[0m \u001b[0mConfig\u001b[0m\u001b[0;34m\u001b[0m\u001b[0;34m\u001b[0m\u001b[0m\n",
            "\u001b[0;31mModuleNotFoundError\u001b[0m: No module named 'mrcnn'",
            "",
            "\u001b[0;31m---------------------------------------------------------------------------\u001b[0;32m\nNOTE: If your import is failing due to a missing package, you can\nmanually install dependencies using either !pip or !apt.\n\nTo view examples of installing some common dependencies, click the\n\"Open Examples\" button below.\n\u001b[0;31m---------------------------------------------------------------------------\u001b[0m\n"
          ]
        }
      ]
    },
    {
      "cell_type": "code",
      "metadata": {
        "id": "pZLUxiI2EeIg",
        "colab_type": "code",
        "colab": {}
      },
      "source": [
        "MODEL_DIR = os.path.join(ROOT_DIR, \"logs\")\n",
        "iter_num = 0"
      ],
      "execution_count": 0,
      "outputs": []
    },
    {
      "cell_type": "code",
      "metadata": {
        "id": "YnDW-5HcEkwZ",
        "colab_type": "code",
        "colab": {}
      },
      "source": [
        "COCO_MODEL_PATH = os.path.join(ROOT_DIR, \"models\\mask_rcnn_coco.h5\")\n",
        "if not os.path.exists(COCO_MODEL_PATH):\n",
        "    utils.download_trained_weights(COCO_MODEL_PATH)"
      ],
      "execution_count": 0,
      "outputs": []
    },
    {
      "cell_type": "code",
      "metadata": {
        "id": "lmR-qhTiFD-i",
        "colab_type": "code",
        "colab": {}
      },
      "source": [
        "class ShapesConfig(Config):\n",
        "    \"\"\"Configuration for training on the toy shapes dataset.\n",
        "    Derives from the base Config class and overrides values specific\n",
        "    to the toy shapes dataset.\n",
        "    \"\"\"\n",
        "    # Give the configuration a recognizable name\n",
        "    NAME = \"car\"\n",
        " \n",
        "    # Train on 1 GPU and 8 images per GPU. We can put multiple images on each\n",
        "    # GPU because the images are small. Batch size is 8 (GPUs * images/GPU).\n",
        "    GPU_COUNT = 1\n",
        "    IMAGES_PER_GPU = 1\n",
        " \n",
        "    # Number of classes (including background)\n",
        "    NUM_CLASSES = 1 + 6  # background + 1 class\n",
        " \n",
        "    # Use small images for faster training. Set the limits of the small side\n",
        "    # the large side, and that determines the image shape.\n",
        "    IMAGE_MIN_DIM = 256\n",
        "    IMAGE_MAX_DIM = 640\n",
        " \n",
        "    # Use smaller anchors because our image and objects are small\n",
        "    RPN_ANCHOR_SCALES = (8 * 6, 16 * 6, 32 * 6, 64 * 6, 128 * 6)  # anchor side in pixels\n",
        " \n",
        "    # Reduce training ROIs per image because the images are small and have\n",
        "    # few objects. Aim to allow ROI sampling to pick 33% positive ROIs.\n",
        "    TRAIN_ROIS_PER_IMAGE = 32\n",
        " \n",
        "    # Use a small epoch since the data is simple\n",
        "    STEPS_PER_EPOCH = 100\n",
        " \n",
        "    # use small validation steps since the epoch is small\n",
        "    VALIDATION_STEPS = 5"
      ],
      "execution_count": 0,
      "outputs": []
    },
    {
      "cell_type": "code",
      "metadata": {
        "id": "lEbwhzgnFpW3",
        "colab_type": "code",
        "colab": {}
      },
      "source": [
        "class DrugDataset(utils.Dataset):\n",
        "    # Get how many instances (objects) are in the picture\n",
        "    def get_obj_index(self, image):\n",
        "        n = np.max(image)\n",
        "        return n\n"
      ],
      "execution_count": 0,
      "outputs": []
    },
    {
      "cell_type": "code",
      "metadata": {
        "id": "3mYpxqU8z12E",
        "colab_type": "code",
        "outputId": "7f4f387f-068b-4619-e790-076dc3c64b2e",
        "colab": {
          "base_uri": "https://localhost:8080/",
          "height": 34
        }
      },
      "source": [
        ""
      ],
      "execution_count": 0,
      "outputs": [
        {
          "output_type": "stream",
          "text": [
            "Requirement already satisfied: tensorboardcolab in /usr/local/lib/python3.6/dist-packages (0.0.22)\n"
          ],
          "name": "stdout"
        }
      ]
    },
    {
      "cell_type": "code",
      "metadata": {
        "id": "Jx1VWqfO0A5D",
        "colab_type": "code",
        "colab": {}
      },
      "source": [
        "#!pip install -U torch torchvision\n",
        "#!pip install git+https://github.com/facebookresearch/fvcore.git\n",
        "#!git clone https://github.com/facebookresearch/detectron2 detectron2_repo\n",
        "#!pip install -e detectron2_repo\n"
      ],
      "execution_count": 0,
      "outputs": []
    },
    {
      "cell_type": "code",
      "metadata": {
        "id": "KubX6URo8-Hu",
        "colab_type": "code",
        "colab": {}
      },
      "source": [
        ""
      ],
      "execution_count": 0,
      "outputs": []
    },
    {
      "cell_type": "code",
      "metadata": {
        "id": "GuRB4YUAy2HF",
        "colab_type": "code",
        "colab": {}
      },
      "source": [
        "from detectron2.config import get_cfg"
      ],
      "execution_count": 0,
      "outputs": []
    },
    {
      "cell_type": "code",
      "metadata": {
        "id": "pl1gyYCOE4BD",
        "colab_type": "code",
        "colab": {}
      },
      "source": [
        "# Parse the yaml file obtained in labelme to obtain the instance label corresponding to each layer of mask\n",
        "    def from_yaml_get_class(self, image_id):\n",
        "        info = self.image_info[image_id]\n",
        "        with open(info['COCO-Detection/faster_rcnn_R_50_FPN_1x.yaml']) as f:\n",
        "            temp = yaml.load(f.read())\n",
        "            labels = temp['label_names']\n",
        "            del labels[0]\n",
        "        return labels\n"
      ],
      "execution_count": 0,
      "outputs": []
    },
    {
      "cell_type": "code",
      "metadata": {
        "id": "nwdkZbjJF-qq",
        "colab_type": "code",
        "colab": {}
      },
      "source": [
        "# rewrite draw_mask\n",
        "    def draw_mask(self, num_obj, mask, image, image_id):\n",
        "        # print(\"draw_mask-->\",image_id)\n",
        "        # print(\"self.image_info\",self.image_info)\n",
        "        info = self.image_info[image_id]\n",
        "        # print(\"info-->\",info)\n",
        "        # print(\"info[width]----->\",info['width'],\"-info[height]--->\",info['height'])\n",
        "        for index in range(num_obj):\n",
        "            for i in range(info['width']):\n",
        "                for j in range(info['height']):\n",
        "                    # print(\"image_id-->\",image_id,\"-i--->\",i,\"-j--->\",j)\n",
        "                    # print(\"info[width]----->\",info['width'],\"-info[height]--->\",info['height'])\n",
        "                    at_pixel = image.getpixel((i, j))\n",
        "                    if at_pixel == index + 1:\n",
        "                        mask[j, i, index] = 1\n",
        "        return mask\n"
      ],
      "execution_count": 0,
      "outputs": []
    },
    {
      "cell_type": "code",
      "metadata": {
        "id": "EJSXwcRoF3tC",
        "colab_type": "code",
        "colab": {}
      },
      "source": [
        "# rewrite load_shapes，which contains our own category\n",
        "    # add path、mask_path 、yaml_path to self.image_info\n",
        "    # yaml_pathdataset_root_path = \"/tongue_dateset/\"\n",
        "    # img_floder = dataset_root_path + \"rgb\"\n",
        "    # mask_floder = dataset_root_path + \"mask\"\n",
        "    # dataset_root_path = \"/tongue_dateset/\"\n",
        "    def load_shapes(self, count, img_floder, mask_floder, imglist, dataset_root_path):\n",
        "        \"\"\"Generate the requested number of synthetic images.\n",
        "        count: number of images to generate.\n",
        "        height, width: the size of the generated images.\n",
        "        \"\"\"\n",
        "        # Add classes\n",
        "        self.add_class(\"rock_2\", 1, \"0%\")\n",
        "        self.add_class(\"rock_2\", 2, \"100%\")\n",
        "        self.add_class(\"rock_2\", 3, \"20%\")\n",
        "        self.add_class(\"rock_2\", 4, \"40%\")\n",
        "        self.add_class(\"rock_2\", 5, \"60%\")\n",
        "        self.add_class(\"rock_2\", 6, \"80%\")\n",
        "        for i in range(count):\n",
        "            # Get picture width and height\n",
        " \n",
        "            filestr = imglist[i].split(\".\")[0]\n",
        "            # print(imglist[i],\"-->\",cv_img.shape[1],\"--->\",cv_img.shape[0])\n",
        "            # print(\"id-->\", i, \" imglist[\", i, \"]-->\", imglist[i],\"filestr-->\",filestr)\n",
        "            # filestr = filestr.split(\"_\")[1]\n",
        "            mask_path = mask_floder + \"/\" + filestr + \".png\"\n",
        "            yaml_path = dataset_root_path + \"/labelme_json/\" + filestr + \"_json/info.yaml\"\n",
        "            print(dataset_root_path + \"/labelme_json/\" + filestr + \"_json/img.png\")\n",
        "            cv_img = cv2.imread(dataset_root_path + \"/labelme_json/\" + filestr + \"_json/img.png\")\n",
        " \n",
        "            self.add_image(\"rock_2\", image_id=i, path=img_floder + \"/\" + imglist[i],\n",
        "                           width=cv_img.shape[1], height=cv_img.shape[0], mask_path=mask_path, yaml_path=yaml_path)\n"
      ],
      "execution_count": 0,
      "outputs": []
    },
    {
      "cell_type": "code",
      "metadata": {
        "id": "S3hOXWGSBzGK",
        "colab_type": "code",
        "colab": {}
      },
      "source": [
        "# rewrite load_mask\n",
        "    def load_mask(self, image_id):\n",
        "        \"\"\"Generate instance masks for shapes of the given image ID.\n",
        "        \"\"\"\n",
        "        global iter_num\n",
        "        info = self.image_info[image_id]\n",
        "        count = 1  # number of object\n",
        "        img = Image.open(info['mask_path'])\n",
        "        num_obj = self.get_obj_index(img)\n",
        "        mask = np.zeros([info['height'], info['width'], num_obj], dtype=np.uint8)\n",
        "        mask = self.draw_mask(num_obj, mask, img, image_id)\n",
        "        occlusion = np.logical_not(mask[:, :, -1]).astype(np.uint8)\n",
        "        for i in range(count - 2, -1, -1):\n",
        "            mask[:, :, i] = mask[:, :, i] * occlusion\n",
        "            occlusion = np.logical_and(occlusion, np.logical_not(mask[:, :, i]))\n",
        "        labels = []\n",
        "        labels = self.from_yaml_get_class(image_id)\n",
        " \n",
        "        labels_form = []\n",
        "        for i in range(len(labels)):\n",
        " \n",
        "            if labels[i].find(\"100%\") != -1:\n",
        "                # print \"box\"\n",
        "                labels_form.append(\"100%\")\n",
        "            if labels[i].find(\"20%\") != -1:\n",
        "                # print \"box\"\n",
        "                labels_form.append(\"20%\")\n",
        "            if labels[i].find(\"60%\") != -1:\n",
        "                # print \"box\"\n",
        "                labels_form.append(\"60%\")\n",
        "            if labels[i].find(\"40%\") != -1:\n",
        "                # print \"box\"\n",
        "                labels_form.append(\"40%\")\n",
        "            if labels[i].find(\"80%\") != -1:\n",
        "                # print \"box\"\n",
        "                labels_form.append(\"80%\")\n",
        "            if labels[i].find(\"0%\") != -1:\n",
        "                if \"0%\" not in labels_form:\n",
        "                  # print \"box\"\n",
        "                  labels_form.append(\"0%\")\n",
        " \n",
        "        class_ids = np.array([self.class_names.index(s) for s in labels_form])\n",
        "        return mask, class_ids.astype(np.int32)\n"
      ],
      "execution_count": 0,
      "outputs": []
    },
    {
      "cell_type": "code",
      "metadata": {
        "id": "mMXHGCQjBTj0",
        "colab_type": "code",
        "colab": {}
      },
      "source": [
        "def get_ax(rows=1, cols=1, size=8):\n",
        "    \"\"\"Return a Matplotlib Axes array to be used in\n",
        "    all visualizations in the notebook. Provide a\n",
        "    central point to control graph sizes.\n",
        "    Change the default size attribute to control the size\n",
        "    of rendered images\n",
        "    \"\"\"\n",
        "    _, ax = plt.subplots(rows, cols, figsize=(16, 16))\n",
        "    return ax\n"
      ],
      "execution_count": 0,
      "outputs": []
    },
    {
      "cell_type": "code",
      "metadata": {
        "id": "ZrrHyLd-GcIy",
        "colab_type": "code",
        "colab": {}
      },
      "source": [
        "def train_model():\n",
        "    # basic setting\n",
        "    dataset_root_path = r\"\\Mask_RCNN-master\\datasets\\rock_2\"\n",
        "    img_floder = os.path.join(dataset_root_path, \"train_pic\")\n",
        "    mask_floder = os.path.join(dataset_root_path, \"train_mask\")\n",
        "    # yaml_floder = dataset_root_path\n",
        "    imglist = os.listdir(img_floder)\n",
        "    count = len(imglist)\n",
        "    "
      ],
      "execution_count": 0,
      "outputs": []
    },
    {
      "cell_type": "code",
      "metadata": {
        "id": "L8YUFj1KGk9G",
        "colab_type": "code",
        "colab": {}
      },
      "source": [
        "# prepare train and val dataset\n",
        "    dataset_train = DrugDataset()\n",
        "    dataset_train.load_shapes(count, img_floder, mask_floder, imglist, dataset_root_path)\n",
        "    dataset_train.prepare()\n"
      ],
      "execution_count": 0,
      "outputs": []
    },
    {
      "cell_type": "code",
      "metadata": {
        "id": "jJk0MsNbGwLr",
        "colab_type": "code",
        "colab": {}
      },
      "source": [
        "# print(\"dataset_train-->\",dataset_train._image_ids)"
      ],
      "execution_count": 0,
      "outputs": []
    },
    {
      "cell_type": "code",
      "metadata": {
        "id": "geQhUju3G2YV",
        "colab_type": "code",
        "colab": {}
      },
      "source": [
        "    dataset_val = DrugDataset()\n",
        "    dataset_val.load_shapes(7, img_floder, mask_floder, imglist, dataset_root_path)\n",
        "    dataset_val.prepare()\n"
      ],
      "execution_count": 0,
      "outputs": []
    },
    {
      "cell_type": "code",
      "metadata": {
        "id": "1YxoVoQi_CYY",
        "colab_type": "code",
        "colab": {}
      },
      "source": [
        "    # Create models in training mode\n",
        "    config = ShapesConfig()\n",
        "    config.display()\n"
      ],
      "execution_count": 0,
      "outputs": []
    },
    {
      "cell_type": "code",
      "metadata": {
        "id": "wynA6OM2G_Y6",
        "colab_type": "code",
        "colab": {}
      },
      "source": [
        "   # image_ids = np.random.choice(dataset_train.image_ids, 10)\n",
        "    # for image_id in image_ids:\n",
        "    #     image = dataset_train.load_image(image_id)\n",
        "    #\n",
        "    # mask, class_ids = dataset_train.load_mask(image_id)\n",
        "    #\n",
        "    # visualize.display_top_masks(image, mask, class_ids, dataset_train.class_names)\n",
        "    # creat the model\n",
        "    model = modellib.MaskRCNN(mode=\"training\", config=config, model_dir=MODEL_DIR)\n"
      ],
      "execution_count": 0,
      "outputs": []
    },
    {
      "cell_type": "code",
      "metadata": {
        "id": "-eSSw8FgG7Qt",
        "colab_type": "code",
        "colab": {}
      },
      "source": [
        "    # Which weights to start with?\n",
        "    # For the first training, fill in coco here. After generating the trained model, change it to last.\n",
        "    init_with = \"coco\"  # imagenet, coco, or last\n",
        " \n",
        "    if init_with == \"imagenet\":\n",
        "        model.load_weights(model.get_imagenet_weights(), by_name=True)\n",
        "    elif init_with == \"coco\":\n",
        "        # Load weights trained on MS COCO, but skip layers that\n",
        "        # are different due to the different number of classes\n",
        "        # See README for instructions to download the COCO weights\n",
        "        model.load_weights(COCO_MODEL_PATH, by_name=True,\n",
        "                           exclude=[\"mrcnn_class_logits\", \"mrcnn_bbox_fc\",\n",
        "                                    \"mrcnn_bbox\", \"mrcnn_mask\"])\n",
        "    elif init_with == \"last\":\n",
        "        # Load the last models you trained and continue training\n",
        "        checkpoint_file = model.find_last()\n",
        "        model.load_weights(checkpoint_file, by_name=True)\n",
        " \n",
        "    # Train the head branches\n",
        "    # Passing layers=\"heads\" freezes all layers except the head\n",
        "    # layers. You can also pass a regular expression to select\n",
        "    # which layers to train by name pattern.\n",
        "    model.train(dataset_train, dataset_val,\n",
        "                learning_rate=config.LEARNING_RATE,\n",
        "                epochs=10,\n",
        "                layers='heads')\n",
        " \n",
        "    # Fine tune all layers\n",
        "    # Passing layers=\"all\" trains all layers. You can also\n",
        "    # pass a regular expression to select which layers to\n",
        "    # train by name pattern.\n",
        "    model.train(dataset_train, dataset_val,\n",
        "                learning_rate=config.LEARNING_RATE / 10,\n",
        "                epochs=30,\n",
        "                layers=\"all\")\n"
      ],
      "execution_count": 0,
      "outputs": []
    },
    {
      "cell_type": "code",
      "metadata": {
        "id": "AVLUmS6GHPZW",
        "colab_type": "code",
        "colab": {}
      },
      "source": [
        "class RockConfig(ShapesConfig):\n",
        "    GPU_COUNT = 1\n",
        "    IMAGES_PER_GPU = 1"
      ],
      "execution_count": 0,
      "outputs": []
    },
    {
      "cell_type": "code",
      "metadata": {
        "id": "laPqpv_GHTQp",
        "colab_type": "code",
        "colab": {}
      },
      "source": [
        "def predict():\n",
        "    import skimage.io\n",
        "    from mrcnn import visualize\n",
        " \n",
        "    # Create models in training mode\n",
        "    config = RockConfig()\n",
        "    config.display()\n",
        "    model = modellib.MaskRCNN(mode=\"inference\", config=config, model_dir=MODEL_DIR)\n",
        "    model_path = model.find_last()\n",
        " \n",
        "    # Load trained weights (fill in path to trained weights here)\n",
        "    # assert model_path != \"\", \"Provide path to trained weights\"\n",
        "    model_path = '\\Mask_RCNN-master\\models\\mask_rcnn_rock_2_0030.h5'\n",
        "    print(\"Loading weights from \", model_path)\n",
        "    model.load_weights(model_path, by_name=True)\n",
        " \n",
        "    class_names = ['_background_', '0%', '100%', '20%', '40%', '80%','60%']\n",
        " \n",
        "    # Load a random image from the images folder\n",
        "    file_names = r'E:\\Mask_RCNN-master\\datasets\\rock_2\\test_pic\\000001.JPEG' # next(os.walk(IMAGE_DIR))[2]\n",
        "    # image = skimage.io.imread(os.path.join(IMAGE_DIR, random.choice(file_names)))\n",
        "    image = cv2.imread(file_names)\n",
        "    # Run detection\n",
        "    results = model.detect([image], verbose=1)\n",
        " \n",
        "    # Visualize results\n",
        "    r = results[0]\n",
        "    visualize.display_instances(image, r['rois'], r['masks'], r['class_ids'], class_names, r['scores'], )\n"
      ],
      "execution_count": 0,
      "outputs": []
    },
    {
      "cell_type": "code",
      "metadata": {
        "id": "g0scJ7SxHa7i",
        "colab_type": "code",
        "colab": {}
      },
      "source": [
        "def cal_mAp():\n",
        "    APs = []\n",
        "    model_path = 'E:\\Mask_RCNN-master\\models\\mask_rcnn_rock_2_0030.h5'\n",
        "    # Recreate the model in inference mode\n",
        "    config = RockConfig()\n",
        "    # Load the trained model\n",
        "    model = modellib.MaskRCNN(mode=\"inference\",\n",
        "                              config=config,\n",
        "                              model_dir=MODEL_DIR)\n",
        "    model.load_weights(model_path, by_name=True)\n",
        "    # basic setting\n",
        "    dataset_root_path = r\"E:\\Mask_RCNN-master\\datasets\\rock_2\"\n",
        "    img_floder = os.path.join(dataset_root_path, \"test_pic\")\n",
        "    mask_floder = os.path.join(dataset_root_path, \"test_mask\")\n",
        "    # yaml_floder = dataset_root_path\n",
        "    imglist = os.listdir(img_floder)\n",
        "    count = len(imglist)\n",
        "    dataset_test = DrugDataset()\n",
        "    # Load test data\n",
        "    dataset_test.load_shapes(count, img_floder, mask_floder, imglist, dataset_root_path)\n",
        "    dataset_test.prepare()\n",
        "    image_ids = dataset_test.image_ids\n",
        "    for image_id in image_ids:\n",
        "        # Load image and ground truth data\n",
        "        image, image_meta, gt_class_id, gt_bbox, gt_mask = \\\n",
        "            modellib.load_image_gt(dataset_test, config,\n",
        "                                   image_id, use_mini_mask=False)\n",
        "        molded_images = np.expand_dims(modellib.mold_image(image, config), 0)\n",
        "        # Run object detection\n",
        "        results = model.detect([image], verbose=0)\n",
        "        r = results[0]\n",
        "        # Compute AP\n",
        "        AP, precisions, recalls, overlaps = \\\n",
        "            utils.compute_ap(gt_bbox, gt_class_id, gt_mask,\n",
        "                             r[\"rois\"], r[\"class_ids\"], r[\"scores\"], r['masks'])\n",
        "        print(AP)\n",
        "        APs.append(AP)\n",
        " \n",
        "    print(\"mAP: \", np.mean(APs))\n",
        " \n",
        " \n",
        "if __name__ == \"__main__\":\n",
        "    train_model()\n",
        "    #predict()\n",
        "    #cal_mAp()\n"
      ],
      "execution_count": 0,
      "outputs": []
    },
    {
      "cell_type": "code",
      "metadata": {
        "id": "KvZS2ysAG7VZ",
        "colab_type": "code",
        "colab": {}
      },
      "source": [
        ""
      ],
      "execution_count": 0,
      "outputs": []
    }
  ]
}